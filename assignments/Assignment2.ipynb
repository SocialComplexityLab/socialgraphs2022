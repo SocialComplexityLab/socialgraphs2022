{
 "cells": [
  {
   "cell_type": "markdown",
   "metadata": {},
   "source": [
    "# Formalia:\n",
    "\n",
    "Please read the [assignment overview page](https://github.com/SocialComplexityLab/socialgraphs2022/wiki/Assignments) carefully before proceeding. This page contains information about formatting (including formats etc), group sizes, and many other aspects of handing in the assignment. \n",
    "\n",
    "_If you fail to follow these simple instructions, it will negatively impact your grade!_\n",
    "\n",
    "**Due date and time**: The assignment is due on Tuesday November 1st, 2022 at 23:55. Hand in your IPython notebook file (with extension `.ipynb`) via http://peergrade.io/ (we won't be doing peergrading, but we'll still use http://peergrade.io/ for the handin.)"
   ]
  },
  {
   "cell_type": "markdown",
   "metadata": {},
   "source": [
    "# Data\n",
    "\n",
    "This assignment will be based on the DC and Marvel superhero dataset you downloaded during the Week 4 exercises. It's important that you work with your own dataset.\n",
    "\n",
    "You will need the network structure and the page texts to complete the assignment.\n",
    "\n",
    "To show that you have collected these files, please place your files somewhere that's accessible online (e.g. a github repo or a webpage) and link to your files from your notebook. (We will appreciate it if you store the wiki pages in plain text and the network as an edgelist. )"
   ]
  },
  {
   "cell_type": "markdown",
   "metadata": {},
   "source": [
    "# Basic Stats\n",
    "\n",
    "Write a short paragraph describing the network. The paragraph should contain the following information\n",
    "\n",
    "* The number of nodes and links. \n",
    "* The average, median, mode, minimum and maximum value of the network's in-degree.s And of the out-degrees.\n",
    "\n",
    "We also want the degree distributions and a plot of the network\n",
    "\n",
    "* Create in- and out-going degree distributions as described in Lecture 5.\n",
    "* Estimate the slope of the incoming degree distribtion as described in Lecture 5.\n",
    "* Plot the network using the Force Atlas algorithm as described in Lecture 5.\n",
    "\n",
    "(Friendly hint: Remember figure captions.)"
   ]
  },
  {
   "cell_type": "markdown",
   "metadata": {},
   "source": [
    "# Communities\n",
    "\n",
    "Identify the communities in one or both of the superhero universes (DC/Marvel) as described in Week 7.\n",
    "\n",
    "Visualize the communities as colors on the graph - also as described in Week 7.\n",
    "\n",
    "Write a paragraph about your work to identify the communities. The paragraph should include\n",
    "\n",
    "* Information about the algorithm you used to find communities.\n",
    "* The value of modularity for your network.\n",
    "* The number of communities and their sizes (in terms of number of nodes).\n",
    "\n",
    "For the 10 largest communities, process the text in order to create a TF-IDF vector for each community. Explain in your own words how TF-IDF works.\n",
    "\n",
    "Then visualize the TF-IDF vectors using wordclouds (as described in Week 7). Remember to comment on your word-clouds (e.g. in the figure captions): Do the wordclouds/TF-IDF lists enable you to understand the communities you have found (or is it just gibberish)? Justify your answer."
   ]
  },
  {
   "cell_type": "markdown",
   "metadata": {},
   "source": [
    "# Sentiment\n",
    "\n",
    "First calculate the sentiment for all character pages. Calculate the mean value of the sentiment and the 10th and 90th percentile values for the sentiment. Then create a nice histogram displaying the distribution of sentiment values for all pages. Indicate the mean, etc on that histogram.\n",
    "\n",
    "Now grab the good/bad character names ([from this file](https://raw.githubusercontent.com/SocialComplexityLab/socialgraphs2022/b1668fe5fbea0765ed6f9cf896bfaf208a13765b/files/wiki_meta_data.csv), see Week 8 for details) and calculate the same stats for only good/bad characters; also plot the histograms for the good/bad group and indicate the values of the mean, etc.\n",
    "\n",
    "Finally use the label permutation test (see Week 5) to investigate the two hypotheses below\n",
    "* H1: Good characters have a higher averge value for sentiment than a similarly sized set of randomly selected characters.\n",
    "* H2: Bad characters have a lower average value for sentiment than a similarly sized set of randomly selected characters.\n",
    "\n",
    "Write a short paragraph reflecting on your findings."
   ]
  },
  {
   "cell_type": "code",
   "execution_count": null,
   "metadata": {},
   "outputs": [],
   "source": []
  }
 ],
 "metadata": {
  "anaconda-cloud": {},
  "kernelspec": {
   "display_name": "Python 3 (ipykernel)",
   "language": "python",
   "name": "python3"
  },
  "language_info": {
   "codemirror_mode": {
    "name": "ipython",
    "version": 3
   },
   "file_extension": ".py",
   "mimetype": "text/x-python",
   "name": "python",
   "nbconvert_exporter": "python",
   "pygments_lexer": "ipython3",
   "version": "3.9.13"
  }
 },
 "nbformat": 4,
 "nbformat_minor": 1
}
