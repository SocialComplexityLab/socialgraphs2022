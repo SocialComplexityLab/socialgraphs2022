{
 "cells": [
  {
   "cell_type": "markdown",
   "metadata": {},
   "source": [
    "# Overview\n",
    "\n",
    "We're now switching focus away from the Network Science (for a little bit), beginning to think about _Natural Language Processing_ instead. In other words, today will be all about teaching your computer to \"understand\" text. This ties in nicely with our work on wikipedia, since wikipedia is a network of connected pieces of text. We've looked at the network so far - now, let's see if we can include the text. Today is about \n",
    "\n",
    "* Installing the _natural language toolkit_ (NLTK) package and learning the basics of how it works (Chapter 1)\n",
    "* Figuring out how to make NLTK to work with other types of text (Chapter 2)."
   ]
  },
  {
   "cell_type": "markdown",
   "metadata": {},
   "source": [
    "# Part 0: Info about the final project\n",
    "\n",
    "If you feel like getting started by learning about the Project assignments, watch the video below. The video takes you throught the information in https://github.com/SocialComplexityLab/socialgraphs2022/wiki/Final-Assignment (if you're not up for watching the video, you can also just read the page)."
   ]
  },
  {
   "cell_type": "code",
   "execution_count": 4,
   "metadata": {},
   "outputs": [
    {
     "data": {
      "image/jpeg": "[encoded data removed]",
      "text/html": [
       "\n",
       "        <iframe\n",
       "            width=\"800\"\n",
       "            height=\"450\"\n",
       "            src=\"https://www.youtube.com/embed/imtub3WKmS0\"\n",
       "            frameborder=\"0\"\n",
       "            allowfullscreen\n",
       "            \n",
       "        ></iframe>\n",
       "        "
      ],
      "text/plain": [
       "<IPython.lib.display.YouTubeVideo at 0x107ac1a00>"
      ]
     },
     "execution_count": 4,
     "metadata": {},
     "output_type": "execute_result"
    }
   ],
   "source": [
    "from IPython.display import YouTubeVideo\n",
    "YouTubeVideo(\"imtub3WKmS0\",width=800, height=450)"
   ]
  },
  {
   "cell_type": "markdown",
   "metadata": {},
   "source": [
    "# Part 1: A little lecture\n",
    "\n",
    "> **_Video Lecture_**. Today is all about ***working*** with NLTK, so not much lecturing - you can get my perspective and a little pep-talk"
   ]
  },
  {
   "cell_type": "code",
   "execution_count": 5,
   "metadata": {},
   "outputs": [
    {
     "data": {
      "image/jpeg": "[encoded data removed]",
      "text/html": [
       "\n",
       "        <iframe\n",
       "            width=\"800\"\n",
       "            height=\"450\"\n",
       "            src=\"https://www.youtube.com/embed/Ph0EHmFT3n4\"\n",
       "            frameborder=\"0\"\n",
       "            allowfullscreen\n",
       "            \n",
       "        ></iframe>\n",
       "        "
      ],
      "text/plain": [
       "<IPython.lib.display.YouTubeVideo at 0x107ac10d0>"
      ]
     },
     "execution_count": 5,
     "metadata": {},
     "output_type": "execute_result"
    }
   ],
   "source": [
    "YouTubeVideo(\"Ph0EHmFT3n4\",width=800, height=450)"
   ]
  },
  {
   "cell_type": "markdown",
   "metadata": {},
   "source": [
    "# Part 2: Installing and the basics\n",
    "\n",
    "> _Reading_\n",
    "> The reading for today is Natural Language Processing with Python (NLPP) Chapter 1, Sections 1.1, 1.2, 1.3\\. [It's free online](http://www.nltk.org/book/). \n"
   ]
  },
  {
   "cell_type": "markdown",
   "metadata": {},
   "source": [
    "> *Exercises*: NLPP Chapter 1\\.\n",
    "> \n",
    "> * First, install `nltk` if it isn't installed already (there are some tips below that I recommend checking out before doing installing)\n",
    "> * Second, work through chapter 1. The book is set up as a kind of tutorial with lots of examples for you to work through. I recommend you read the text with an open Jupyter Notebook and type out the examples that you see. ***It becomes much more fun if you to add a few variations and see what happens***. Some of those examples might very well be due as assignments (see below the install tips), so those ones should definitely be in a `notebook`. \n",
    " "
   ]
  },
  {
   "cell_type": "markdown",
   "metadata": {},
   "source": [
    "### NLTK Install tips \n",
    "\n",
    "Check to see if `nltk` is installed on your system by typing `import nltk` in a `notebook`. If it's not already installed, install it as part of _Anaconda_ by typing \n",
    "\n",
    "     conda install nltk \n",
    "\n",
    "at the command prompt. If you don't have them, you can download the various corpora using a command-line version of the downloader that runs in Python notebooks: In the iPython notebook, run the code \n",
    "\n",
    "     import nltk\n",
    "     nltk.download()\n",
    "\n",
    "Now you can hit `d` to download, then type \"book\" to fetch the collection needed today's `nltk` session. Now that everything is up and running, let's get to the actual exercises.\n",
    "\n",
    "\n",
    "**Note**: If, instead of opening the pop-up, your Kernel dies (it does for some folks 😱), you can directly download the collection by typing `nltk.dwonload(\"book\")` instead."
   ]
  },
  {
   "cell_type": "markdown",
   "metadata": {},
   "source": [
    "> *Exercises: NLPP Chapter 1 (the stuff that might be due in an upcoming assignment).\n",
    "> \n",
    "> The following exercises from Chapter 1 are what might be due in an assignment later on.\n",
    ">\n",
    "> * Try out the `concordance` method, using another text and a word of your own choosing.\n",
    "> * Also try out the `similar` and `common_context` methods for a few of your own examples.\n",
    "> * Create your own version of a dispersion plot (\"your own version\" means another text and different word).\n",
    "> * Explain in your own words what aspect of language _lexical diversity_ describes. \n",
    "> * Create frequency distributions for `text2`, including the cumulative frequency plot for the 75 most common words.\n",
    "> * What is a bigram? How does it relate to `collocations`. Explain in your own words.\n",
    "> * Work through ex 2-12 in NLPP's section 1.8\\. \n",
    "> * Work through exercise 15, 17, 19, 22, 23, 26, 27, 28 in section 1.8\\. "
   ]
  },
  {
   "cell_type": "markdown",
   "metadata": {},
   "source": [
    "# Part 3: Working with NLTK and other types of text\n",
    "\n",
    "So far, we've worked with text from Wikipedia. But that's not the only source of text in the universe. In fact, it's far from it. Chapter 2 in NLPP is all about getting access to nicely curated texts that you can find built into NLTK. \n",
    "> \n",
    "> Reading: NLPP Chapter 2.1 - 2.4\\.\n",
    "> "
   ]
  },
  {
   "cell_type": "markdown",
   "metadata": {},
   "source": [
    "> *Exercises*: NLPP Chapter 2\\.\n",
    "> \n",
    "> * Solve exercise 4, 8, 11, 15, 16, 17, 18 in NLPP, section 2.8\\. As always, I recommend you write up your solutions nicely in a `notebook`.\n",
    "> * Work through exercise 2.8.23 on Zipf's law. [Zipf's law](https://en.wikipedia.org/wiki/Zipf%27s_law) connects to a property of the Barabasi-Albert networks. Which one? Take a look at [this article](http://www.hpl.hp.com/research/idl/papers/ranking/adamicglottometrics.pdf) and write a paragraph or two describing other important instances of power-laws found on the internet.\n",
    ">"
   ]
  },
  {
   "cell_type": "code",
   "execution_count": null,
   "metadata": {},
   "outputs": [],
   "source": []
  }
 ],
 "metadata": {
  "anaconda-cloud": {},
  "kernelspec": {
   "display_name": "Python 3 (ipykernel)",
   "language": "python",
   "name": "python3"
  },
  "language_info": {
   "codemirror_mode": {
    "name": "ipython",
    "version": 3
   },
   "file_extension": ".py",
   "mimetype": "text/x-python",
   "name": "python",
   "nbconvert_exporter": "python",
   "pygments_lexer": "ipython3",
   "version": "3.9.13"
  }
 },
 "nbformat": 4,
 "nbformat_minor": 1
}
