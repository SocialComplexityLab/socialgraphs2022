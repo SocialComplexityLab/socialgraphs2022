{
 "cells": [
  {
   "cell_type": "markdown",
   "metadata": {},
   "source": [
    "# Overview\n",
    "\n",
    "This week we'll talk about advanced network measures (beyond the degree distribution). We will use these tools to make sense of the network of the Comics Characters on Wikipedia. \n",
    "This is the outline for today:\n",
    "\n",
    "* Visualization and qualitative analysis of the Comic Book Characters Network\n",
    "* Properties of the network structure, including how univere-origin and other properties shape the network\n",
    "\n",
    "> _Reading_: This week, the reading is mostly for reference. It's for you to have a place to go, if you want more detailed information about the topics that I cover in the video lectures. Thus, I recommend you check out **Chapter 9** of the network science book. In particular, we'll delve into [Section 9.4](http://networksciencebook.com/chapter/9#modularity) in the exercises below. We will also talk a little bit about degree correlations - you can read about those in [Chapter 7](http://networksciencebook.com/chapter/7)\\."
   ]
  },
  {
   "cell_type": "markdown",
   "metadata": {},
   "source": [
    "---\n",
    "# Part A: Let's  visualise!"
   ]
  },
  {
   "cell_type": "markdown",
   "metadata": {},
   "source": [
    "*Exercise 1*: Build the right graph for visualization. \n",
    "\n",
    "We will continue to work with the network from last week, see the lecture for [Week 4](https://nbviewer.jupyter.org/github/socialcomplexitylab/socialgraphs2022/blob/master/lectures/Week4.ipynb) for details. \n",
    "\n",
    "This is important! Actually, in order to continue with the lecture, you *need* to complete Week 4:\n",
    "\n",
    ">1. Use NetworkX `DiGraph` to store the network of characters. Remember that characters are linked if they have a corresponding link between their Wikipedia pages. \n",
    ">   * **Additionally**, extract the largest component - it will make our work with visualisations much easier (note: removing *isolated* nodes (with no links) does not guarantee that you are left with the largest component).\n",
    ">     - *Note 1*: You probably have the right graph if you have more than 2k nodes and more than 15k edges.\n",
    ">     - *Note 2*: For directed graphs use `weakly connected component` to extract the largest component.\n",
    ">     - *Note 3*: Further analysis is done with the largest component\n",
    ">2. As you build the graph, store the attributes of the nodes (remember the `universe` from the past week). On top of that, let's also store the `length of the content` as one of the attributes of the node (i.e. count the number of *words* you have in each character's page). By storing this information as nodal features, we keep all the relevant data in one place. The safe way to count words without counting symbols is to use `regex`, but simpler methods are OK."
   ]
  },
  {
   "cell_type": "markdown",
   "metadata": {},
   "source": [
    "*Exercise 2:* Let's build a simple visualization of network\n",
    ">1. For the sake of the visualisation, let's convert our network to *undirected graph* (tip: There is a NetworkX command to help you).\n",
    ">   * *Note*: Keep the directed graph, we will use it in couple of the following exercises\n",
    ">2. Use the NetworkX command `nx.draw_kamada_kawai` to draw the network resulting undirected. (You can find [background on the algorithm here](https://en.wikipedia.org/wiki/Force-directed_graph_drawing).)  \n",
    ">   * Node color should depend on the `universe` attribute (i.e. use different colors for DC and Marvel universe)\n",
    ">   * Set up your plot so that node-size depends on the node *degree*\n",
    ">   * **Optional**: Set up you plot so that edge color depends on the `universe` attribute. If an edge connects two nodes from Marvel universe assign `color_a`, if the edge connects two nodes from DC universe assign `color_b`, in case a link connects nodes from disparate universes, cases assign `color_c`. (Here, you get to decide on the colors.)"
   ]
  },
  {
   "cell_type": "markdown",
   "metadata": {},
   "source": [
    "*Exercise 3:* We can make even better visualisations with `ForceAtlas2` package. (By \"better\" we mean \"more beautiful\" of course, **but** better also means more useful in terms of understanding the network. A good visualization that really captures structure in the graph can help you understand the network. )\n",
    "\n",
    ">1. The [Force Atlas 2 algorithm](https://github.com/bhargavchippada/forceatlas2) helps calculate more aesthetically pleasing positions for the nodes (see what the result looks like below).\n",
    ">2.You can install the  package typing `pip install fa2` in the terminal. The [github page](https://github.com/bhargavchippada/forceatlas2) explains how to use the package to get coordinates for each node. You can then feed those coordinates to NetworkX (see below).\n",
    "> * Visualize the network using the [NetworkX draw function](https://networkx.github.io/documentation/stable/reference/generated/networkx.drawing.nx_pylab.draw.html#networkx.drawing.nx_pylab.draw), and node-coordinates from the force atlas algorithm. As in the previous Exercise:\n",
    ">   * Node color should depend on the `universe` attribute (i.e. use different colors for DC and Marvel universe)\n",
    ">   * Node size should depend on the node *degree*\n",
    ">   * **Optional**: Edge colour should depend on the `universe` attribute. If an edge connects nodes from Marvel universe assign `color_a`, if the edge connects nodes from DC universe assign `color_b`, in other cases assign `color_c`\n",
    "> * Play with the force atlas algorithm parameters to obtain a visualization you like. It may look similar to the one below (but not necessarily). \n",
    "> * Describe the structure you observe. Can you see that the nodes seperate into two separate clusters? Can you see high-degree nodes? In the plot below, the red nodes seem to split into two sub-clusters: What's going on there?\n",
    "\n",
    "![Network](https://github.com/SocialComplexityLab/socialgraphs2020/blob/master/files/week5_fa2_a.png?raw=true)"
   ]
  },
  {
   "cell_type": "markdown",
   "metadata": {},
   "source": [
    "*Exercise 4*: We continue with a qualitative inspection of the Wikipedia pages, that will help us to intepret our results. We investigate the reasons for links between characters to exist on Wikipedia.\n",
    "\n",
    ">1. Consider the nodes with highest in-degree in the network. Open the corresponding Wikipedia page.\n",
    ">   * Consider the set of neighbours pointing towards the node found above. \n",
    ">   * What is the relation between the characters you identified and their network neighbours? (e.g. do they appear in the same comics?, are they opponents?, etc ...). You don't need to come up with a grand theory of comics here, I just want you to think about how links arise, why the links are there.\n",
    ">   * Repeat the exercise for the largest out-degree node. \n",
    ">   * Are there differences between reasons for out- and in-links? Again, there's no right answer here. I just want you to think about some of the reasons why links may occur in Wikipedia\n",
    ">5. Are there any nodes with high out-degree and with few incoming connections? If yes, open WikiPages of such characters and explain what happens?\n",
    ">6. Are there any nodes with high in-degree and few outcoming connections? Again, open WikiPages of such characters and explain what happens? "
   ]
  },
  {
   "cell_type": "markdown",
   "metadata": {},
   "source": [
    "# Part B:  Advanced tools \n",
    "\n",
    "> **Video lecture**: *Network measures*. There's an updated video below, and if you can't get enough, you can watch the original version from 2015 [here](https://www.youtube.com/watch?v=0uAYpOqVHCU)."
   ]
  },
  {
   "cell_type": "code",
   "execution_count": 1,
   "metadata": {},
   "outputs": [
    {
     "data": {
      "image/jpeg": "[encoded data removed]",
      "text/html": [
       "\n",
       "        <iframe\n",
       "            width=\"800\"\n",
       "            height=\"450\"\n",
       "            src=\"https://www.youtube.com/embed/IOWXZFOyk9Y\"\n",
       "            frameborder=\"0\"\n",
       "            allowfullscreen\n",
       "            \n",
       "        ></iframe>\n",
       "        "
      ],
      "text/plain": [
       "<IPython.lib.display.YouTubeVideo at 0x106fb2730>"
      ]
     },
     "execution_count": 1,
     "metadata": {},
     "output_type": "execute_result"
    }
   ],
   "source": [
    "from IPython.display import YouTubeVideo\n",
    "YouTubeVideo(\"IOWXZFOyk9Y\", width=800, height=450)"
   ]
  },
  {
   "cell_type": "markdown",
   "metadata": {},
   "source": [
    "*Exercise 5:* Last time we visually analyzed (plotted) the degree distributions of our network. Now, let's analyze it using some of the tools from previous lectures. For this exercise we are going to look at the *directed* graph (rememeber, we asked you to keep one?).\n",
    "\n",
    ">1. What are the average, median, mode, minimum and maximum value of the in-degree? And of the out-degree? How do you intepret the results?\n",
    ">    * On top of that, calculate same statistics separately for the network that is spanned only by DC Characters (we call this the DC-network), and only by the Marvel characters (the Marvel-network). How do you interpret the results? \n",
    ">2. Let's also look at the *[exponent of the degree distribution](http://networksciencebook.com/chapter/4#degree-exponent)* \n",
    ">    * To calculate it, you can install [`powerlaw`](https://journals.plos.org/plosone/article?id=10.1371/journal.pone.0085777) package (I could not install in conda, so I used `pip install powerlaw`)\n",
    ">    * Use `powerlaw.Fit(degree).alpha` for fitting\n",
    ">    * Find the degree exponent for in-, out- and total- degree distribution. What does it say about our network?\n",
    ">    * When analyzing the plots of in- and out- degree distribution last week, did you come up to the same conclusions?\n",
    ">    * Some long time ago, couple of scientist have analyzed the network that is spanned by the whole Wikipedia (paper is called [Wikipedias: Collaborative web-based encyclopedias as complex networks](https://journals.aps.org/pre/abstract/10.1103/PhysRevE.74.016115); to access this paper, use findit.dtu.dk or read the preprint on [arXiv](https://arxiv.org/abs/physics/0602149)). Do your findings correspond to the results described in Chapter **III.A** of that paper? If not, try to give your explanation of why? \n",
    ">3. Plot a scatter plot of the the in- versus out- degree for all characters. Comment on the relation between the two.\n",
    ">4. Plot a heatmap [(Hint here)](https://stackoverflow.com/questions/2369492/generate-a-heatmap-in-matplotlib-using-a-scatter-data-set) of the the in- versus out- degree for all characters. What is the advantage of using a heatmap over the scatter plot?\n",
    ">5. Why do you think I want you guys to use a directed graph? Are there questions we can ask using the directed graph that are not possible to answer in the undirected version. Which questions? Can you think of examples when the in/out distinction doesn't matter.\n",
    ">6. We have one more metric that we did not use. The node-attribute `content lenght`. There are two things we can investigate here.\n",
    ">   * Firstly, we can verify that more text means more links. If that's true the length should correlate with out-degree. Does it? \n",
    ">   * Secondly, and more interestingly, it could be that longer texts means *more famous* characters. And that means more in-links. \n",
    ">   * How should you test this? Well, here you are allowed to be **creative**. You may choose the method of your liking to study this question (e.g. look at it visually, test the correlation using [spearman](https://docs.scipy.org/doc/scipy/reference/generated/scipy.stats.spearmanr.html) or [pearson](https://docs.scipy.org/doc/scipy-0.14.0/reference/generated/scipy.stats.pearsonr.html) correlations, fit a curve to the data, you decide). Once you've tested, let me know. Are both questions true? If yes, which phenomenon is stronger? Explain your results in your own words"
   ]
  },
  {
   "cell_type": "markdown",
   "metadata": {},
   "source": [
    "*Exercise 6:* Centralities, assortativity and more.\n",
    "\n",
    "Earlier, we found the most connected nodes (using degree centrality). \n",
    "\n",
    "Now let's dig in and try to understand more about the network using more advanced features. \n",
    "\n",
    "**Note**: Not all of the measures we'll be considering below are defined for directed graphs. Only use the undirected graph when explicitly stated in the exercise. Meanwhile, **for this exercise use either the DC or Marvel Network alone (i.e. only a single universe). This it will help you to see the differences).**\n",
    ">1. Find the 5 most central characters according to degree centrality. \n",
    ">   * Repeat Exercise A2 or A3 from above for your new sub-network (depending on which visualization method you liked the most), but with our new network.\n",
    ">1. Find the 5 most central characters according to betweenness centrality. \n",
    ">   * Repeat Exercise A2 or A3 (depending on which visualization method you liked the most). However, this time use betweenness centrality to define the size of the node.\n",
    ">   * What role do you imagine characters with high wikipedia graph betweenness centrality play? \n",
    ">2. Find the 5 most central characters according to eigenvector centrality. Calculate centrality corresponding to both in- and out-edges (see NetworkX documentation for details). \n",
    ">   * Repeat Exercise A2 or A3 (depending on which visualization method you liked the most). However, this time use eigenvector centrality to define the size of the node.\n",
    ">   * What role do you imagine characters with high wikipedia graph eigenvector centrality play? \n",
    ">3. Plot the betweenness centrality of nodes vs their degree centrality. Is there a correlation between the two? Did you expect that? Why? \n",
    ">    * Repeat using eigenvector centrality instead of betweenness centrality. Do you observe any difference relative to above? Why?\n",
    ">4. Is the undirected version of the graph [assortative](https://en.wikipedia.org/wiki/Assortativity) with respect to degree? (e.g. do high-degree characters tend to link to other high-degree characters, and low-degree characters to other low-degree characters?). Provide an interpretation of your answer.\n",
    ">4. Is the undirected version of the graph [assortative](https://en.wikipedia.org/wiki/Assortativity) with respect do the `content length` nodal properties? (e.g. do characters with long Wikipedia pages tend to link to other charakters with long Wiki-pages, and *vice versa*?. Hint: Use [this function](https://networkx.github.io/documentation/stable/reference/algorithms/generated/networkx.algorithms.assortativity.attribute_assortativity_coefficient.html#networkx.algorithms.assortativity.attribute_assortativity_coefficient). Provide an interpretation of your answer.\n",
    ">5. What is the average shortest path length? Is it similar to the one of a random graph with the same number of nodes $N$  and probablity of connection $p$?\n",
    ">   * Take a look at the *distribution* of shortest paths for the two networks (create a histogram for each network) to better compare and contrast. Explain what you see in your own words.\n",
    "\n",
    "---\n",
    "\n",
    "> * **Optional** (but cool). What about betweenness centrality in the full network? Create a visualization of the network using Force Atlas 2, where you set the size of nodes to scale according to their betweenness centrality. Describe in your own words what you learn from that plot."
   ]
  },
  {
   "cell_type": "markdown",
   "metadata": {},
   "source": [
    "*Exercise 7*: Does a universe of a character play a large role in the network as a whole? Now, let us explore if and how the universes shape the network (use full network). \n",
    ">1. Compute the average node centrality for Marvel and DC characters respectively (choose your favourite centrality measure). Which universe has the more central characters?\n",
    ">2. Create a version of the full graph $R$, where the association between nodes and universes is shuffled (so in $R$ it is arbitrary which universe a character belongs to, but we maintain the same number of Marvel/DC characters as in the original graph). Compute the average centrality of DC and Marvel nodes for the $R$ graph. \n",
    ">   * **Hint**: The way I usually create random lables is by using either [`random.shuffle`](https://docs.python.org/3/library/random.html#random.shuffle) or [`numpy.random.permutation`](https://docs.scipy.org/doc/numpy/reference/generated/numpy.random.permutation.html).\n",
    ">3. Repeat the shuffling process above 1000 times (resulting in 1000 graphs $R_1 \\ldots R_{1000}$) and plot two histograms, each histogram with the 1000 corresponding average values of centrality obtained for Marvel and DC characters in the shuffeled networks. These histograms show a distribution of how central DC/Marvel characters tend to be in this \"random universe world\".\n",
    ">4. The cool thing is that you can now compare the value that got from the real graph (**which is not random**), these thousands of random universe worlds. Are characters of one of the two universes more central in the network (on average)?\n",
    ">5. Think about your results, what could be possible explanations for what you observe?"
   ]
  },
  {
   "cell_type": "code",
   "execution_count": null,
   "metadata": {},
   "outputs": [],
   "source": []
  }
 ],
 "metadata": {
  "kernelspec": {
   "display_name": "Python 3 (ipykernel)",
   "language": "python",
   "name": "python3"
  },
  "language_info": {
   "codemirror_mode": {
    "name": "ipython",
    "version": 3
   },
   "file_extension": ".py",
   "mimetype": "text/x-python",
   "name": "python",
   "nbconvert_exporter": "python",
   "pygments_lexer": "ipython3",
   "version": "3.9.13"
  }
 },
 "nbformat": 4,
 "nbformat_minor": 4
}
