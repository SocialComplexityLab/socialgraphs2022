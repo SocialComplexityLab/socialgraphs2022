{
 "cells": [
  {
   "cell_type": "markdown",
   "metadata": {},
   "source": [
    "# Overview\n",
    "\n",
    "This week is all about working with data. I'm not going to lie to you. This part might be frustrating - but frustration is an integral part of learning. Real data is almost always messy & difficult ... and learning to deal with that fact, is a key part of being a data scientist. \n"
   ]
  },
  {
   "cell_type": "markdown",
   "metadata": {},
   "source": [
    "Enough about the process, let's get to the content. \n",
    "\n",
    "![Text](https://raw.githubusercontent.com/SocialComplexityLab/socialgraphs2020/master/files/DC_vs_marvel.png \"Great image choice, Sune\")\n",
    "\n",
    "Today, we will use network science and Wikipedia to learn about the relationships of **[DC](https://en.wikipedia.org/wiki/Lists_of_DC_Comics_characters)** and **[Marvel](https://en.wikipedia.org/wiki/Lists_of_Marvel_Comics_characters)** characters. \n",
    "\n",
    "To create the network, we will download the Wikipedia pages for all characters in each of the DC and Marvel universes. Next, we create the network of the pages that link to each other. We can do this because wikipedia pages link to one another. So [Spider-Man](https://en.wikipedia.org/wiki/Spider-Man) links to [Superman](https://en.wikipedia.org/wiki/Superman), for example (it really does), but most links are \"within-universe\" (so DC characters link to DC character and Marvel characters link to other).\n",
    "\n",
    "Next time, we'll use our network skills (as well as new ones) to understand that network. Further down the line, we'll use natural language processing to extract information from the text displayed on those pages.\n",
    "\n",
    "But for today, the tasks are\n",
    "\n",
    "* Learn about regular expressions\n",
    "<!---* Learn about Pandas dataframes--->\n",
    "* Download and store (for later use) all the character-pages from Wikipedia\n",
    "* Extract all the internal wikipedia-links that connect the characters on Wikipedia\n",
    "* Generate the network of characters on wikipedia. \n",
    "* Calculate some simple network statistics."
   ]
  },
  {
   "cell_type": "markdown",
   "metadata": {},
   "source": [
    "---\n",
    "\n",
    "# Prelude: Regular expressions\n",
    "\n",
    "Before we get started, we have to get a little head start on the _Natural Language Processing_ part of the class. This is a new direction for us. Up to now, we've mostly been doing math-y stuff with Python, but today, we're going to be using Python to work through a text. The central thing we need to be able to do today, is to extract internal wikipedia links (links between wiki-pages). And for that we need regular expressions.\n",
    "\n",
    "> _Exercises_: Regular expressions round 1\\.\n",
    "> \n",
    "> * Read [**this tutorial**](https://developers.google.com/edu/python/regular-expressions) to form an overview of regular expressions. This is important to understand the content of the tutorial (also very useful later), so you may actually want to work through the examples. \n",
    "> * (**Experiment 2022**: An alternative to reading. If you love videos more than reading, you can also check out [this YouTube explainer video](https://www.youtube.com/watch?v=rhzKDrUiJVk) instead of going through the tutorial above -- it's a friendly looking young man called Kyle who goes through RegExps from his bedroom. I haven't watched the whole thing ... since I personally don't like video explainers ... but it has many views + thumbs up.)\n",
    "> * Now, explain in your own words: what are regular expressions?\n",
    "> * Provide an example of a regex to match 4 digits numbers (by this, I mean precisely 4 digits, you should not match any part of numbers with e.g. 5 digits). In your notebook, use `findall` to show that your regex works on this [test-text](https://raw.githubusercontent.com/SocialComplexityLab/socialgraphs2020/master/files/regex_exercise.txt). **Hint**: a great place to test out regular expressions is: https://regex101.com.\n",
    "> * Provide an example of a regex to match words starting with \"super\". Show that it works on the [test-text](https://raw.githubusercontent.com/SocialComplexityLab/socialgraphs2020/master/files/regex_exercise.txt).\n",
    "> \n",
    "\n",
    "Now we can go on to figure out how how to match internal wiki links. Wiki links come in two flavors. They're always enclosed in double square brackets, e.g. `[[wiki-link]]` and can either occur like this:\n",
    "\n",
    "    ... some text [[Aristotle]] some more text ...\n",
    "\n",
    "which links to the page [`https://en.wikipedia.org/wiki/Aristotle`](https://en.wikipedia.org/wiki/Aristotle). \n",
    "\n",
    "The second flavor has two parts, so that links can handle spaces and other more fancy forms of references, here's an example:\n",
    "\n",
    "    ... some text [[John_McCain|John McCain]] some more text ...\n",
    "\n",
    "which links to the page [`https://en.wikipedia.org/wiki/John_McCain`](https://en.wikipedia.org/wiki/John_McCain). Now it's your turn.\n",
    "\n",
    "> _Exercise_: Regular expressions round 2\\. Show that you can extract the wiki-links from the [test-text](https://raw.githubusercontent.com/SocialComplexityLab/socialgraphs2022/master/files/regex_exercise.txt). Perhaps you can find inspiration on stack overflow or similar. **Hint**: Try to solve this exercise on your own (that's what you will get the most out of - learning wise), but if you get stuck ... you will find the solution in one of the video lectures below.\n",
    "> "
   ]
  },
  {
   "cell_type": "markdown",
   "metadata": {},
   "source": [
    "---\n",
    "\n",
    "# Part A: Download the Wikipedia pages of characters"
   ]
  },
  {
   "cell_type": "markdown",
   "metadata": {},
   "source": [
    "It's time to download all of the pages of the characters. Use your experience with APIs from Week 1\\. To get started, I **strongly** recommend that you re-watch the **APIs video lecture** from that week - it contains lots of useful tips on this specific activity (yes, I had planned this all along!). I've included it below for your covenience."
   ]
  },
  {
   "cell_type": "code",
   "execution_count": 1,
   "metadata": {},
   "outputs": [
    {
     "data": {
      "image/jpeg": "[encoded data removed]",
      "text/html": [
       "\n",
       "        <iframe\n",
       "            width=\"800\"\n",
       "            height=\"450\"\n",
       "            src=\"https://www.youtube.com/embed/9l5zOfh0CRo\"\n",
       "            frameborder=\"0\"\n",
       "            allowfullscreen\n",
       "            \n",
       "        ></iframe>\n",
       "        "
      ],
      "text/plain": [
       "<IPython.lib.display.YouTubeVideo at 0x1058626a0>"
      ]
     },
     "execution_count": 1,
     "metadata": {},
     "output_type": "execute_result"
    }
   ],
   "source": [
    "from IPython.display import YouTubeVideo\n",
    "YouTubeVideo(\"9l5zOfh0CRo\",width=800, height=450)"
   ]
  },
  {
   "cell_type": "markdown",
   "metadata": {},
   "source": [
    "Now, back in the day, I had all students first download the names of all the characters, starting from \n",
    "\n",
    "* https://en.wikipedia.org/wiki/Lists_of_Marvel_Comics_characters\n",
    "* https://en.wikipedia.org/wiki/Lists_of_DC_Comics_characters\n",
    "\n",
    "But that resulted in so much pain and suffering that recently I've decided against that. Instead, you can download all the names, nice and clean, here (it might still include couple of noisy links, but should be fine in the vast majority of records):\n",
    "\n",
    "These are available as CSV below (working with the CSV is recommended)\n",
    "* [Marvel List](https://github.com/SocialComplexityLab/socialgraphs2022/blob/master/files/marvel.csv)\n",
    "* [DC List](https://github.com/SocialComplexityLab/socialgraphs2022/blob/master/files/dc.csv)\n",
    "\n",
    "\n",
    "If you like to work in `pandas`, you can get table-versions here\n",
    "* [Marvel List](https://github.com/SocialComplexityLab/socialgraphs2022/blob/master/files/marvel.pkl) as a pandas table. \n",
    "* [DC List](https://github.com/SocialComplexityLab/socialgraphs2022/blob/master/files/dc.pkl) as a pandas table.\n",
    "* These files are also available in pandas 1.3.5 since there are some version issues ([DC](https://github.com/SocialComplexityLab/socialgraphs2022/blob/master/files/dc-pandas_1_3_5.pkl), [Marvel](https://github.com/SocialComplexityLab/socialgraphs2022/blob/master/files/marvel-pandas_1_3_5.pkl)). \n",
    "\n",
    "(Thanks to TA Silvia for updating these lists, and to TA Nojus for catching various mistakes. Note that Silvia has used the [`pickle`](https://docs.python.org/3/library/pickle.html#data-stream-format) format to store the data, so you'll have to read about that to access the list. **If you just want to get started, read [this link](https://wiki.python.org/moin/UsingPickle)**. Pickling your data has some advantages over just writing it to a `.csv` file. Pickles are less portable (they only work in python), but they let you easily read data directly into a dictionary + I think they also contain some compression.)\n",
    "\n",
    "#### A challenge\n",
    "If you're feeling tough, you can head over to our [Hardcore List Parsing](https://github.com/SocialComplexityLab/socialgraphs2022/blob/master/files/Hardcore_List_Parsing.ipynb) notebook, full of tricks to help you try out creating these lists on your own! If you manage to do both Marvel and DC on our own, you will officially have graduated to brown-belt Python hacker. (Black belt challenges coming later in the year.)\n",
    "\n",
    "#### Some notes to the perfectionists out there\n",
    "The files contain names and corresponding wiki-link. \n",
    "  - If link if absent, one possiblity is that character does not have a specific page and information about this particular character can be found directly in the [Marvel](https://en.wikipedia.org/wiki/Lists_of_Marvel_Comics_characters) or [DC](https://en.wikipedia.org/wiki/Lists_of_DC_Comics_characters) lists* (BUT you do not have to grab that text - if you do not feel comfortable with extracting paragraphs from lists it is okay to ignore Comic characters with absent links) .\n",
    "  - Similarly, pages can be missing or redirected. If you encounter re-directs, you can follow the redirect link and see if you can recover a page that's not already in your database.  (But you do not have to do that either - it's fine to just skip ... many new issues can arise if you try to follow the redirects)** .\n",
    "\n",
    "\n",
    "\n",
    "With these two lists, you now have all of the nodes in the network.\n",
    "\n",
    "*Exercise*\n",
    "\n",
    "> * Use your knowledge of APIs and the list of all the wiki-pages to download all the text on the pages of Marvel and DC characters. \n",
    ">  - Hint 0: Make sure you read the [Wiki API pages](https://www.mediawiki.org/wiki/API:Main_page) to ensure that your download the cleanest possible version of the page (the wikitext). [This link](https://stackoverflow.com/questions/55779015/get-wikitext-from-wikipedia-api) may be helpful.\n",
    ">  - Hint 1: You may want to save the pages on your computer. You can use your skills from the first lectures to write them as plain-text files (that's what I would do - one file per character, named according to its wiki-link). (But you can also use pickle files or start a database if you like that better.)\n",
    ">  - Hint 2: If you now have a directory with all those files, you can use [`os.listdir()`](https://www.geeksforgeeks.org/python-os-listdir-method/) to list all the files in that directory within Python and iterate over the files if you need to.\n",
    ">  - Hint 3: You can also make your life even easier by reading more about the Wikipedia API. For example, many of you might find [this page](https://www.mediawiki.org/wiki/API:Links) helpful in getting to your endgoal."
   ]
  },
  {
   "cell_type": "markdown",
   "metadata": {},
   "source": [
    "---\n",
    "\n",
    "# Part B: Building the networks\n",
    "\n",
    "Now, we're going to build one huge NetworkX directed graph, which includes both DC and Marvel Characters. \n",
    "\n",
    "The nodes in the network will be all the characters, and we will place an edge between nodes $A$ and $B$ if the Wikipedia page of node $A$ links to the Wikipedia page of node $B$.\n",
    "\n",
    "The overall strategy for this is the following: Take the pages you have downloaded for each character. \n",
    "Each page corresponds to a character (often a super hero), which is a node in your network. \n",
    "Find all the hyperlinks in a characters page that link to another node of the network (e.g. an other character). \n",
    "There are many ways to do this, but below, I've tried to break it down into natural steps. \n",
    "Keep in mind that the network should include **both** DC and Marvel characters (and while the universes are mostly separate by design, it is possible that some DC Characters will have links to Marvel Characters and vice-versa).\n",
    " \n",
    "**Note**: When you add a node to the network, also include an `attribute` (i.e. that specifies the universe where the character comes from; either DC, or Marvel)\n",
    " "
   ]
  },
  {
   "cell_type": "markdown",
   "metadata": {},
   "source": [
    "\n",
    "> \n",
    "> _Exercise_: Build the network of Comics Characters \n",
    "\n",
    "> Now we can build the network. Here are the instructions.\n",
    ">\n",
    ">\n",
    "> * Use a regular expression to extract all outgoing links from each of the pages you downloaded above. \n",
    ">   - Start by making a single page work. Do some debugging to make sure it's actually working.\n",
    ">   - Then slowly build the loops over characters/pages to take your little operation to industrial scale\n",
    ">   - You don't have to be perfect. The will be tricky edge-cases, you don't have to solve all of those. The key is to get a pretty good network to work with, not to make everything perfect.\n",
    ">   - If you can get Hint 3 above to work, that is also OK.\n",
    "> * For each link you extract, check if the target is a character from your DC/Marvel lists. If yes, keep it. If no, discard it.\n",
    "> * Use a NetworkX [`DiGraph`](https://networkx.org/documentation/stable/reference/classes/digraph.html) to store the network. As noted above, remember to store the properties of the nodes (i.e. from which universe they hail).\n",
    "> * When have you finished, you'll notice that some nodes do not have any out- or in- degrees. Unless you've made a mistake those are truly minor chracters. Double check for mistakes, then *discard* those disconnected nodes from the network.\n",
    "\n",
    "Take a moment to think about what you have just accomplished! Using simple tools, you've managed to build a complex network by crawling data from wikipedia. This means that you are a powerful hacker. Congratulations.\n"
   ]
  },
  {
   "cell_type": "markdown",
   "metadata": {},
   "source": [
    "\n",
    "> *Exercise*: Simple network statistics and analysis\n",
    "\n",
    "> * What is the number of nodes in the network? \n",
    "> * More importantly, what is the number of links? (Chat with a fellow student or a TA to make sure you're in the right ball-park)\n",
    "> * What is the number of links connecting Marvel and DC? What do those links mean?\n",
    "> * Plot the in and out-degree distributions for the entire network. What do you observe? Can you explain why the in-degree distribution is different from the out-degree distribution?\n",
    ">     * Compare the out-degree distribution to a *random network* with the same number of nodes and links.\n",
    ">     * Compare the in-degree distribution to a *scale-free* network with the same number of nodes.\n",
    "> * Who are the top 5 most connected Marvel characters (Report results for in-degrees and out-degrees, that is, who has highest in-degree, who has highest out-degree)? Comment on your findings. Is this what you would have expected.\n",
    "> * Who are the top 5 most connected DC characters (again in terms of both in/out-degree)?Comment on your findings. Is this what you would have expected.\n",
    "> * Who are top 5 most connected characters overall? (again in terms of both in/out-degree). Comment on your findings. Is this what you would have expected."
   ]
  },
  {
   "cell_type": "code",
   "execution_count": null,
   "metadata": {},
   "outputs": [],
   "source": []
  }
 ],
 "metadata": {
  "anaconda-cloud": {},
  "kernelspec": {
   "display_name": "Python 3 (ipykernel)",
   "language": "python",
   "name": "python3"
  },
  "language_info": {
   "codemirror_mode": {
    "name": "ipython",
    "version": 3
   },
   "file_extension": ".py",
   "mimetype": "text/x-python",
   "name": "python",
   "nbconvert_exporter": "python",
   "pygments_lexer": "ipython3",
   "version": "3.9.13"
  }
 },
 "nbformat": 4,
 "nbformat_minor": 4
}
