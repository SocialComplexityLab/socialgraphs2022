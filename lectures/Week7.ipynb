{
 "cells": [
  {
   "cell_type": "markdown",
   "metadata": {},
   "source": [
    "# Overview\n",
    "\n",
    "This week's curriculum focuses in figuring out (and visualizing) what's special about a certain text (or collection of texts). We'll also learn about community detection in networks (that's how we'll get our groups of text)\n",
    "\n",
    "* Tricks for raw text (NLPP, Chapter 3). \n",
    "* Identifying important words in a document (TF-IDF)\n",
    "* Community Detection\n",
    "\n",
    "In the first part, we will take a quick tour of NLPP1e's chapter 3, which is boring, but an amazing ressource that you'll keep returning to. Then we'll talk about how we can use simple statistics & machine learning to get text to show us what it's all about. We will even do a little visualization. \n",
    "\n",
    "In the second part we will go back to network science, discussing community detection and trying it out on our very own dataset.\n"
   ]
  },
  {
   "cell_type": "markdown",
   "metadata": {},
   "source": [
    "# Part 1: Processing real text (from out on the inter-webs)\n",
    "\n",
    "Ok. So Chapter 3 in NLPP is all about working with text from the real world. Getting text from this internet, cleaning it, tokenizing, modifying (e.g. stemming, converting to lower case, etc) to get the text in shape to work with the NLTK tools you've already learned about - and many more. \n",
    "\n",
    "In the process we'll learn more about regular expressions, as well as unicode; something we've already been struggling with a little bit will now be explained in more detail. \n",
    "> \n",
    "> **Video lecture**: Short overview of chapter 3 + a few words about kinds of language processing that we don't address in this class. \n",
    "> "
   ]
  },
  {
   "cell_type": "code",
   "execution_count": 5,
   "metadata": {},
   "outputs": [
    {
     "data": {
      "image/jpeg": "[encoded data removed]",
      "text/html": [
       "\n",
       "        <iframe\n",
       "            width=\"800\"\n",
       "            height=\"450\"\n",
       "            src=\"https://www.youtube.com/embed/Rwakh-HXPJk\"\n",
       "            frameborder=\"0\"\n",
       "            allowfullscreen\n",
       "            \n",
       "        ></iframe>\n",
       "        "
      ],
      "text/plain": [
       "<IPython.lib.display.YouTubeVideo at 0x106074ca0>"
      ]
     },
     "execution_count": 5,
     "metadata": {},
     "output_type": "execute_result"
    }
   ],
   "source": [
    "from IPython.display import YouTubeVideo\n",
    "YouTubeVideo(\"Rwakh-HXPJk\",width=800, height=450)"
   ]
  },
  {
   "cell_type": "markdown",
   "metadata": {},
   "source": [
    "> *Reading*: NLPP Chapter 3.1, 3.2, 3.3, 3.4, 3.5, 3.6, 3.7, 3.9, and 3.10\\. It's not important that you go in depth with everything here - the key think is that you *know that Chapter 3 of this book exists*, and that it's a great place to return to if you're ever in need of an explanation of regular expressions, unicode, or other topics that you forget as soon as you stop using them (and don't worry, I forget about those things too).\n",
    "> "
   ]
  },
  {
   "cell_type": "markdown",
   "metadata": {},
   "source": [
    "# Part 2: Words that characterize the universes\n",
    "\n",
    "Now, we'll begin to play around with how far we can get with simple strategies for looking at text. \n",
    "\n",
    "The video is basically just me talking about a fun paper, which shows you how little is needed in order to reveal something highly interesting about humans that produce text. But it's important. Don't miss this one!"
   ]
  },
  {
   "cell_type": "markdown",
   "metadata": {},
   "source": [
    "> **Video lecture**: Simple methods reveal a lot. I talk about the paper: [Personality, Gender, and Age in the Language of Social Media: The Open-Vocabulary Approach](http://journals.plos.org/plosone/article?id=10.1371/journal.pone.0073791).  "
   ]
  },
  {
   "cell_type": "code",
   "execution_count": 3,
   "metadata": {},
   "outputs": [
    {
     "data": {
      "image/jpeg": "[encoded data removed]",
      "text/html": [
       "\n",
       "        <iframe\n",
       "            width=\"800\"\n",
       "            height=\"450\"\n",
       "            src=\"https://www.youtube.com/embed/wkYvdfkVmlI\"\n",
       "            frameborder=\"0\"\n",
       "            allowfullscreen\n",
       "            \n",
       "        ></iframe>\n",
       "        "
      ],
      "text/plain": [
       "<IPython.lib.display.YouTubeVideo at 0x1061904f0>"
      ]
     },
     "execution_count": 3,
     "metadata": {},
     "output_type": "execute_result"
    }
   ],
   "source": [
    "YouTubeVideo(\"wkYvdfkVmlI\",width=800, height=450)"
   ]
  },
  {
   "cell_type": "markdown",
   "metadata": {},
   "source": [
    "Now, we'll learn about the wiki-pages we've downloaded. "
   ]
  },
  {
   "cell_type": "markdown",
   "metadata": {},
   "source": [
    "_Exercise_ 1: Comparing word-counts of Marvel and DC heroes. \n",
    "\n",
    "*Setup*. You'll need to go to your archives and find the wikipedia pages of all the superheroes. \n",
    "\n",
    "Once you have the texts ready, you will want to aggregate the text into two long lists (let's call them two documents). One based on all the text from the Marvel pages, and one based on all the text from the DC pages. In each list, you should keep all the words (or *tokens* to be more precise) that occur on the pages, and a count of how frequently each word occurs. For example, a Marvel list could contain entries along the lines of:\n",
    "\n",
    "```\n",
    "...\n",
    "\n",
    "wolverine 452\n",
    "avenger 129\n",
    "mutant 630\n",
    "\n",
    "...\n",
    "```\n",
    "This list is called a ***Term Frequency*** (or TF) list. Let's build our own TF lists. Before you start counting, I am going to ask you do do a few things\n",
    "\n",
    "> *Action items*\n",
    "> * Tokenize the pages into individual strings\n",
    "> * Remove all punctuation from your list of tokens\n",
    "> * Set everything to lower case\n",
    "> * (Optional) Lemmatize your words\n",
    "\n",
    "If you are confused by the instructions for cleaning, go back and have a  look Chapter 3 again. \n",
    "\n",
    "> *Action item*: \n",
    "> * Create your TF list for each universe.\n",
    "> * List the top 15 words for each universe.\n",
    "> * Comment on the top 15 words for each universe."
   ]
  },
  {
   "cell_type": "markdown",
   "metadata": {},
   "source": [
    "# Part 3: Visualization\n",
    "\n",
    "**Step 1: Install the software**\n",
    "\n",
    "First you must set up your system. The most difficult thing about creating the wordcloud is installing the `WordCloud` module. It's available on GitHub, check out the page [**here**](https://github.com/amueller/word_cloud). \n",
    "\n",
    "If you're lucky, you can simply install using conda (and all dependencies, etc will be automatically fixed): \n",
    "\n",
    "    conda install -c conda-forge wordcloud\n",
    " \n",
    "If you can't get that to work you can refer here https://anaconda.org/conda-forge/wordcloud. \n",
    "Also, maybe the comments below are helpful: \n",
    " * The module depends on the Python library PIL. Use `conda` to install that before you do anything else.\n",
    " * On my system, the module needed the `gcc` compiler installed. If you're not already a programmer, you may have to install that. On Mac you get it by installing the [_command line tools_](http://osxdaily.com/2014/02/12/install-command-line-tools-mac-os-x/). On linux, it's probably already installed. And on Windows I'm not sure, but we'll figure it out during the exercises. \n",
    " * Once that's all set up, you can use `pip` to install the `WordCloud` library, as [detailed on the GitHub page](https://github.com/amueller/word_cloud). But don't forget to use Anaconda's `pip` just as when you installed the communities library a few weeks ago. \n",
    " * There are examples of how to use the module online, see [here](http://sebastianraschka.com/Articles/2014_twitter_wordcloud.html) and [here](https://bioinfoexpert.com/2015/05/26/generating-word-clouds-in-python/). If you're interested, you can read about how the package was put together [here](http://peekaboo-vision.blogspot.dk/2012/11/a-wordcloud-in-python.html). "
   ]
  },
  {
   "cell_type": "markdown",
   "metadata": {},
   "source": [
    "**Step 2: Draw some wordclouds**\n",
    "\n",
    "> *Action items*\n",
    "> * Get your lists ready for the word-cloud software\n",
    ">    - The package needs a single string to work on. The way that I converted my lists to a string was to simply combine all words together in one long string (separated by spaces), repeating each word according to its score (rounded up to the nearest integer value). \n",
    ">    - The `wordcloud` package looks for collocations in real texts, which is a problem when you make the list as above. The recommended fix is to simply set `collocations = False` as an option when you run the package.\n",
    "> * Now, create a word-cloud for each universe. Feel free to make it as fancy or non-fancy as you like. Comment on the results. (If you'd like, you can remove stopwords/wiki-syntax - I did a bit of that for my own wordclouds.)\n",
    "> "
   ]
  },
  {
   "cell_type": "markdown",
   "metadata": {},
   "source": [
    "# Part 4: Community detection\n"
   ]
  },
  {
   "cell_type": "markdown",
   "metadata": {},
   "source": [
    "Now, for a short while, it is time to go back to our network! \n",
    "\n",
    "Before we begin, let's watch a great lecture to learn about communities. If you want all the details, I recommend you take a look at _Chapter 9_ in the _Network Science_ book ... but the video lecture below should be enough to get you started. \n",
    "\n",
    "**Note**: For this and the next exercise, work on the _undirected_ version of the network.\n",
    "\n",
    "> **_Video Lecture_**: Communities in networks. \n",
    "\n",
    "(You can watch the old (2015) video [here](https://youtu.be/06GL_KGHdbE/)."
   ]
  },
  {
   "cell_type": "code",
   "execution_count": 4,
   "metadata": {
    "scrolled": true
   },
   "outputs": [
    {
     "data": {
      "image/jpeg": "[encoded data removed]",
      "text/html": [
       "\n",
       "        <iframe\n",
       "            width=\"800\"\n",
       "            height=\"450\"\n",
       "            src=\"https://www.youtube.com/embed/FSRoqXw28RI\"\n",
       "            frameborder=\"0\"\n",
       "            allowfullscreen\n",
       "            \n",
       "        ></iframe>\n",
       "        "
      ],
      "text/plain": [
       "<IPython.lib.display.YouTubeVideo at 0x1061903a0>"
      ]
     },
     "execution_count": 4,
     "metadata": {},
     "output_type": "execute_result"
    }
   ],
   "source": [
    "YouTubeVideo(\"FSRoqXw28RI\",width=800, height=450)"
   ]
  },
  {
   "cell_type": "markdown",
   "metadata": {},
   "source": [
    "*Exercise 2*: Use the concept of modularity to explore how _community-like_ the universes are.\n",
    "> \n",
    "> * Explain the concept of modularity in your own words.\n",
    "> * Consider the undirected version of the entire network, including both DC and Marvel.\n",
    "> * Now create your own partition into communities, where all Marvel-characters are one community and all the DC-characters are another community. That's all you need, **now calculate the modularity of this partition**. Modularity is described in the _Network Science_ book, section 9.4.. Thus, use **equation 9.12** in the book to calculate the modularity _M_ of the partition described above. Are the universes good communities?\n",
    "> * Would you expect this result in light of what we have found in the previous exercises?"
   ]
  },
  {
   "cell_type": "markdown",
   "metadata": {},
   "source": [
    "*Exercise 3*: Community detection, considering each universe separately. \n",
    "> * Consider the network of heroes for each universe separately. \n",
    ">    - **Note**. For this exercise, it's OK to just pick one of the universes. \n",
    ">    - If you want to work with the entire network. Then run community detection on each universe separately, then combine results to get a list containing all communities from both parts of the network.\n",
    ">    - (The reason for this is that the strong split between Marvel/DC universes can confuse the algorithm a bit).\n",
    "> * Use [the Python Louvain-algorithm implementation](http://perso.crans.org/aynaud/communities/) to find communities each network. Report the value of modularity found by the algorithm. Is it higher or lower than what you found above for the universes as communities? What does this comparison reveal about them?\n",
    "    >   * **Note**: This implementation is also available as Anaconda package. Install with `conda` as expained [here](https://anaconda.org/auto/python-louvain). \n",
    "    >   * You can also try the *Infomap* algorithm instead if you're curious. Go to [this page]. (http://www.mapequation.org/code.html) and search for 'python'. It's harder to install, but a better community detection algorithm.\n",
    "> Visualize the network, using the Force Atlas algorithm (see Lecture 5, exercise 2). This time assign each node a different color based on their _community_. Describe the structure you observe.\n"
   ]
  },
  {
   "cell_type": "markdown",
   "metadata": {},
   "source": [
    "# Part 5: Understanding TF-IDF\n",
    "\n",
    "Now we jump back into the NLP work. **I emphasize again that it's still OK to work with just one universe**. In this last exercise, we'll be creating word-clouds again. But this time, we'll be using the method from the paper I discuss above: TF-IDF.\n",
    "\n",
    "\n",
    "*Exercise 4*: Wrap your brain around TF-IDF\n",
    "\n",
    "\n",
    "First, let's learn about TF-IDF the way wikipedia explains it. Check out [the wikipedia page for TF-IDF](https://en.wikipedia.org/wiki/Tf%E2%80%93idf) and ***read the first part very carefully***. The idea is that the term frequency doesn't capture just what's special about a text. It also captures words that are just frequent in all text. \n",
    "\n",
    "This is clear from the top counts in my Marvel TF list, for example\n",
    "\n",
    "```\n",
    "of 1623\n",
    "comics 1577\n",
    "marvel 1549\n",
    "in 1528\n",
    "and 1520\n",
    "the 1518\n",
    "to 1512\n",
    "a 1511\n",
    "is 1500\n",
    "by 1498\n",
    "was 1473\n",
    "as 1466\n",
    "ref 1457\n",
    "with 1450\n",
    "first 1447\n",
    " ```\n",
    " \n",
    "You can fix some of this by removing stop-words (as is described in the book), but it's not enough. ***We want to pull out what's special about a particular text.*** \n",
    "\n",
    "To focus on just what's special, TF-IDF has two components: The *term frequency* (TF) and a *weight* (IDF). The weight draws on a larger corpus of text emphasize what's special about the text we're interested in.\n",
    "\n",
    "Further, there are some extra things going on. For example, there are multiple definitions of TF. Above, we just looked at the raw counts.\n",
    "\n",
    "> *Action items*\n",
    ">   * Pick one of the alternative term frequency definitions. Explain why it might sometimes be prefereable to the raw count.\n",
    ">   * What does IDF stand for?\n",
    ">   * How does IDF draw on a larger corpus to extract what's special a certain text?\n",
    "\n",
    "There are also multiple versions of IDF. Let's think about those for a moment.\n",
    "\n",
    "> *Action items*\n",
    ">   * All of the IDF versions take the log of the calculated weight. Why do you think that is?\n",
    ">   * Explain why using IDF makes stopword removal less important.\n",
    "\n",
    "\n",
    "### Mini digression (OK to skip this section)\n",
    "\n",
    "The reason we're not doing TF-IDF for Marvel vs DC is that out-of-the box TF-IDF works weirdly when you only have two documents. Let's see why that's the case. If we grab one of the simple definitions of IDF-weight from wikipedia\n",
    "\n",
    "$$\\log \\left( \\frac{N}{n_t+1} \\right) + 1.$$\n",
    "\n",
    "Where $N = 2$ is the number of documents and $n_t \\in \\{1,2\\}$ is the number of documents containing the term $t$.\n",
    "\n",
    "> *Action item*\n",
    ">   * What are the possible weights that a word can have?\n",
    ">   * Explain in your own words why TF-IDF might not result in ideal wordclods when you only have two documents."
   ]
  },
  {
   "cell_type": "markdown",
   "metadata": {},
   "source": [
    "# Part 6: Communities TF-IDF word-clouds\n",
    "\n",
    "\n",
    "The aim of this part is to create community wordclouds based on TF-IDF. Once again, it's still OK to only work with a single universe (e.g. Marvel or DC).\n",
    "\n",
    "The aim is to understand which words are important for each community. And now that you're TF-IDF experts, we're going to use that strategy. \n",
    "\n",
    "Let's start by creating $N_C$ documents, where $N_C$ is the number of communities you have found in exercise 3. **We will work with the 10 largest communities.**\n",
    "\n",
    "_Exercise 5_:\n",
    "\n",
    "> * Now that we have the communities, let's start by calculating a the TF list for each community (use whichever version of TF you like). Find the top 5 terms within each universe. \n",
    "> * Next, calculate IDF for every word in every list (use whichever version of IDF you like). \n",
    ">   * Which base logarithm did you use? Is that important?\n",
    "> * We're now ready to calculate TF-IDFs. Do that for each community. \n",
    ">   * List the 10 top words for each universe accourding to TF-IDF. Are these 10 words more descriptive of the universe than just the TF? Justify your answer.\n",
    "> * Create a wordcloud for each community. Do the wordclouds/TF-IDF lists enable you to understand the communities you have found (or is it just gibberish)? Justify your answer."
   ]
  },
  {
   "cell_type": "code",
   "execution_count": null,
   "metadata": {},
   "outputs": [],
   "source": []
  }
 ],
 "metadata": {
  "anaconda-cloud": {},
  "kernelspec": {
   "display_name": "Python 3 (ipykernel)",
   "language": "python",
   "name": "python3"
  },
  "language_info": {
   "codemirror_mode": {
    "name": "ipython",
    "version": 3
   },
   "file_extension": ".py",
   "mimetype": "text/x-python",
   "name": "python",
   "nbconvert_exporter": "python",
   "pygments_lexer": "ipython3",
   "version": "3.9.13"
  }
 },
 "nbformat": 4,
 "nbformat_minor": 1
}
